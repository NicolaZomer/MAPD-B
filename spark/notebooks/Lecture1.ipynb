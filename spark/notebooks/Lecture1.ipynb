{
 "cells": [
  {
   "cell_type": "markdown",
   "metadata": {},
   "source": [
    "# Lecture 1: Introduction to PySpark\n",
    "\n",
    "Immagine you are interested in working on a large dataset, at the scale of Petabytes:\n",
    "\n",
    "* Data are distributed in many nodes, collecting all of them in one node would be impossible\n",
    "\n",
    "* You want to first load data and explore them\n",
    "\n",
    "* Before moving to machine learning you need to preprocess data\n",
    "\n",
    "What you would like to do is to run the pre-processing on each node of the cluster where the data is distributed, and return only some high level quantities that will be used in the analysis. \n",
    "\n",
    "This is the core concept of Hadoop and Spark: the code goes to the data, rather than the data coming to the machine where the code resides (data locality). \n",
    "\n",
    "\n",
    "# Standalone Cluster\n",
    "\n",
    "For this set of lectures we will work with a standalone cluster deployed on your machine. You can use it to develop and test your application before deploying it on a large cluster.\n",
    "\n",
    "Youc can choose to:\n",
    "* **Local cluster**: Create a local cluster by downloading and configuring all components by hand\n",
    "* **Single Docker container**: Use the provided single Docker image to do the same\n",
    "* **Docker cluster**: Create the cluster with multiple Docker containers using docker-compose\n",
    "\n",
    "Run the setup only for the version you are interested and set the following variable.\n",
    "Note that if you want to use Docker you need to be running this notebook from inside a container, \n",
    "following the instructions reported in the README"
   ]
  },
  {
   "cell_type": "code",
   "execution_count": 1,
   "metadata": {},
   "outputs": [],
   "source": [
    "# set this variable with one of the following values\n",
    "\n",
    "# -> 'local'\n",
    "# -> 'docker_container'\n",
    "# -> 'docker_cluster'\n",
    "\n",
    "CLUSTER_TYPE ='docker_cluster'"
   ]
  },
  {
   "cell_type": "markdown",
   "metadata": {},
   "source": [
    "# Local Cluster\n",
    "\n",
    "<center><img src='imgs/lecture1/standalone_cluster.png'/></center>\n",
    "\n",
    "\n",
    "### Prerequisites\n",
    "\n",
    "* Download [spark](https://downloads.apache.org/spark/spark-3.2.1/spark-3.2.1-bin-hadoop3.2.tgz) \n",
    "\n",
    "* Extract the Spark tarball with `tar xvf spark-3.2.1-bin-hadoop3.2.tgz`\n",
    "\n",
    "* Spark 3 should run on both Java 8/11, so make sure that you have one of them as default (or `JAVA_HOME` environment variable pointing to your java installation)\n",
    "\n",
    "* If this is set correctly, typing `java --version` on your terminal shoud display something like `openjdk 11.0.15`\n",
    "\n",
    "### Create a standalone cluster\n",
    "\n",
    "We will now create a Spark standalone cluster on our local machine. More on this can be found in the [spark documentation](https://spark.apache.org/docs/latest/spark-standalone.html). \n",
    "\n",
    "First we need to start the master node.\n",
    "To do this, move into the spark directory, i.e. `cd spark-3.2.1-bin-hadoop3.2`. \n",
    "From here run the following command \n",
    "```\n",
    "./sbin/start-master.sh --host localhost --port 7077 --webui-port 8080\n",
    "```\n",
    "This will spin up the Spark master with address `spark://localhost:7077` and a cluster dashboark at `localhost:8080`.\n",
    "\n",
    "We can now create a worker with 2 cores and 2GB of memory using the following command:\n",
    "\n",
    "```\n",
    "./sbin/start-worker.sh spark://localhost:7077 --cores 2 --memory 2g\n",
    "```\n",
    "\n",
    "After a few seconds it should appear in the master’s web UI (`localhost:8080` on your browser). \n",
    "\n",
    "**Note**: in this configuration there can be at most one worker per each node, i.e. you can't start two workers. \n",
    "\n",
    "\n",
    "### Running applications\n",
    "\n",
    "We can now submit our application to the cluster with commands such as `spark-submit`. For these sessions we will use jupyter-notebooks to explore pyspark interactively. To do this we need one last package wich will set the environment variables needed to get pyspark modules and use the correct version of python. \n",
    "\n",
    "The package can be installed via pip running the following cell"
   ]
  },
  {
   "cell_type": "code",
   "execution_count": null,
   "metadata": {
    "scrolled": true
   },
   "outputs": [],
   "source": [
    "!pip install findspark"
   ]
  },
  {
   "cell_type": "markdown",
   "metadata": {},
   "source": [
    "We can now initialize all the required variables with `findspark.init()` by passing the path to the spark folder we downloaded previously."
   ]
  },
  {
   "cell_type": "code",
   "execution_count": null,
   "metadata": {},
   "outputs": [],
   "source": [
    "import findspark\n",
    "\n",
    "findspark.init('/home/pazzini/work/courses/MAPD_B/MAPD-B/spark/spark-3.2.1-bin-hadoop3.2/')"
   ]
  },
  {
   "cell_type": "code",
   "execution_count": null,
   "metadata": {},
   "outputs": [],
   "source": [
    "# check some of the env variables\n",
    "!env | grep -i spark"
   ]
  },
  {
   "cell_type": "markdown",
   "metadata": {},
   "source": [
    "# Single Docker container\n",
    "\n",
    "If you are opening this notebook using the provided container all environment variables are already set.\n",
    "\n",
    "It is the possibile to start the Spark master and workers with the following bash commands:"
   ]
  },
  {
   "cell_type": "code",
   "execution_count": null,
   "metadata": {},
   "outputs": [],
   "source": [
    "!$SPARK_HOME/sbin/start-master.sh --host localhost --port 7077 --webui-port 8080"
   ]
  },
  {
   "cell_type": "code",
   "execution_count": null,
   "metadata": {},
   "outputs": [],
   "source": [
    "!$SPARK_HOME/sbin/start-worker.sh spark://localhost:7077 --cores 2 --memory 2g"
   ]
  },
  {
   "cell_type": "markdown",
   "metadata": {},
   "source": [
    "Now the cluster dashboard is available at `localhost:8080`."
   ]
  },
  {
   "cell_type": "markdown",
   "metadata": {},
   "source": [
    "# Docker cluster\n",
    "\n",
    "If the cluster has been created with Docker compose there is nothing to do. The cluster dashboard can be seen at `localhost:8080` and the master is already available at `spark://spark-master:7077`."
   ]
  },
  {
   "cell_type": "markdown",
   "metadata": {},
   "source": [
    "# Spark Session\n",
    "\n",
    "We can now create the Spark session. \n",
    "\n",
    "With the following command we are asking to the master (and resource manager) to create an _application_ with the required resources and configurations. \n",
    "\n",
    "In this case we are using all the default options, e.g.  number of core and number of executors, but we can also specify them by hand with `.config(\"spark.some.config\", \"value\")`. \n",
    "\n",
    "The list of available configurations can be found [here](https://spark.apache.org/docs/latest/configuration.html)."
   ]
  },
  {
   "cell_type": "code",
   "execution_count": 2,
   "metadata": {},
   "outputs": [
    {
     "name": "stderr",
     "output_type": "stream",
     "text": [
      "WARNING: An illegal reflective access operation has occurred\n",
      "WARNING: Illegal reflective access by org.apache.spark.unsafe.Platform (file:/usr/bin/spark-3.2.1-bin-hadoop3.2/jars/spark-unsafe_2.12-3.2.1.jar) to constructor java.nio.DirectByteBuffer(long,int)\n",
      "WARNING: Please consider reporting this to the maintainers of org.apache.spark.unsafe.Platform\n",
      "WARNING: Use --illegal-access=warn to enable warnings of further illegal reflective access operations\n",
      "WARNING: All illegal access operations will be denied in a future release\n",
      "Using Spark's default log4j profile: org/apache/spark/log4j-defaults.properties\n",
      "Setting default log level to \"WARN\".\n",
      "To adjust logging level use sc.setLogLevel(newLevel). For SparkR, use setLogLevel(newLevel).\n",
      "22/05/10 12:41:42 WARN NativeCodeLoader: Unable to load native-hadoop library for your platform... using builtin-java classes where applicable\n"
     ]
    }
   ],
   "source": [
    "from pyspark.sql import SparkSession\n",
    "\n",
    "# if Spark is run either in Local of Single-Container mode\n",
    "if CLUSTER_TYPE in ['local', 'docker_container']:\n",
    "    \n",
    "    # build a SparkSession \n",
    "    #   connect to the master node (address `localhost`) and the port where the master node is listening (7077)\n",
    "    #   declare the app name \n",
    "    #   either connect or create a new context\n",
    "    spark = SparkSession.builder \\\n",
    "        .master(\"spark://localhost:7077\")\\\n",
    "        .appName(\"First spark application\")\\\n",
    "        .getOrCreate()\n",
    "\n",
    "# if Spark is run as Docker Container cluster (with docker-compose)\n",
    "elif CLUSTER_TYPE == 'docker_cluster':\n",
    "    \n",
    "    # build a SparkSession \n",
    "    #   connect to the master node (address `spark-master`) and the port where the master node is listening (7077)\n",
    "    #   declare the app name \n",
    "    #   configure the executor memory to 512 MB\n",
    "    #   either connect or create a new context\n",
    "    spark = SparkSession.builder \\\n",
    "        .master(\"spark://spark-master:7077\")\\\n",
    "        .appName(\"First spark application\")\\\n",
    "        .config(\"spark.executor.memory\", \"512m\")\\\n",
    "        .getOrCreate()\n",
    "else:\n",
    "    print(\"Variable CLUSTER_TYPE is not set.\")\n"
   ]
  },
  {
   "cell_type": "markdown",
   "metadata": {},
   "source": [
    "Check the content of the SparkSession `spark` object"
   ]
  },
  {
   "cell_type": "code",
   "execution_count": 4,
   "metadata": {},
   "outputs": [
    {
     "data": {
      "text/html": [
       "\n",
       "            <div>\n",
       "                <p><b>SparkSession - in-memory</b></p>\n",
       "                \n",
       "        <div>\n",
       "            <p><b>SparkContext</b></p>\n",
       "\n",
       "            <p><a href=\"http://a9758bcc6650:4040\">Spark UI</a></p>\n",
       "\n",
       "            <dl>\n",
       "              <dt>Version</dt>\n",
       "                <dd><code>v3.2.1</code></dd>\n",
       "              <dt>Master</dt>\n",
       "                <dd><code>spark://spark-master:7077</code></dd>\n",
       "              <dt>AppName</dt>\n",
       "                <dd><code>First spark application</code></dd>\n",
       "            </dl>\n",
       "        </div>\n",
       "        \n",
       "            </div>\n",
       "        "
      ],
      "text/plain": [
       "<pyspark.sql.session.SparkSession at 0x7f41e8459fa0>"
      ]
     },
     "execution_count": 4,
     "metadata": {},
     "output_type": "execute_result"
    }
   ],
   "source": [
    "spark"
   ]
  },
  {
   "cell_type": "markdown",
   "metadata": {},
   "source": [
    "Get the SparkContext object from the SparkSession \n",
    "\n",
    "The SparkContext is the main entry point for all Spark functionalities, and it is used to work with RDDs"
   ]
  },
  {
   "cell_type": "code",
   "execution_count": 3,
   "metadata": {},
   "outputs": [
    {
     "data": {
      "text/html": [
       "\n",
       "        <div>\n",
       "            <p><b>SparkContext</b></p>\n",
       "\n",
       "            <p><a href=\"http://920a42824405:4040\">Spark UI</a></p>\n",
       "\n",
       "            <dl>\n",
       "              <dt>Version</dt>\n",
       "                <dd><code>v3.2.1</code></dd>\n",
       "              <dt>Master</dt>\n",
       "                <dd><code>spark://spark-master:7077</code></dd>\n",
       "              <dt>AppName</dt>\n",
       "                <dd><code>First spark application</code></dd>\n",
       "            </dl>\n",
       "        </div>\n",
       "        "
      ],
      "text/plain": [
       "<SparkContext master=spark://spark-master:7077 appName=First spark application>"
      ]
     },
     "execution_count": 3,
     "metadata": {},
     "output_type": "execute_result"
    }
   ],
   "source": [
    "sc = spark.sparkContext\n",
    "sc"
   ]
  },
  {
   "cell_type": "markdown",
   "metadata": {},
   "source": [
    "## Parallelize!\n",
    "\n",
    "The main feauture of Spark is to distribute data in a number of partitions, either using the memory or the disk available in the executors.\n",
    "\n",
    "The first command we will use is `parallelize()`. \n",
    "This function of the `SparkContext` (`sc`) object is used to create a Resilient Distributed Datasets (**RDD**) from a list collection. \n",
    "In other words, it takes a collection and split it amongst the workers. \n",
    "\n",
    "We will start with a basic example to get familiar with the main functions of Spark RDDs. \n",
    "\n",
    "Starting from a python \"dataset\" we create an RDD, `dist_data`, and then operate on it in a parallel fashion."
   ]
  },
  {
   "cell_type": "code",
   "execution_count": 6,
   "metadata": {},
   "outputs": [],
   "source": [
    "# python dataset\n",
    "data = [1,2,3,4,5,6,7,8]\n",
    "\n",
    "# parallelize\n",
    "dist_data = sc.parallelize(data)\n",
    "\n",
    "# go check the Spark web UI\n",
    "#   http://localhost:8080 for the master node web UI\n",
    "#   http://localhost:4040 for the SparkContext web UI (where you application will reside)"
   ]
  },
  {
   "cell_type": "markdown",
   "metadata": {},
   "source": [
    "\n",
    "...nothing happend in the Web UI, even though we asked Spark to parallelize our data into a number of partitions! \n",
    "\n",
    "That's because `parallelize` is not an action, but a transformation $\\Rightarrow$ lazy operation. \n",
    "We can trigger it by using the `count` action, a function used to count the number of elements in the RDD. "
   ]
  },
  {
   "cell_type": "code",
   "execution_count": 7,
   "metadata": {},
   "outputs": [
    {
     "name": "stderr",
     "output_type": "stream",
     "text": [
      "                                                                                \r"
     ]
    },
    {
     "data": {
      "text/plain": [
       "8"
      ]
     },
     "execution_count": 7,
     "metadata": {},
     "output_type": "execute_result"
    }
   ],
   "source": [
    "# count elements of the rdd\n",
    "dist_data.count()"
   ]
  },
  {
   "cell_type": "markdown",
   "metadata": {},
   "source": [
    "If you are using two cores, in the WebUI you will see two parallel lines for this task. That's because the RDD consists of two *partitions*. Indeed, under the hood, RDD are stored and represented as partitions, \"small blocks\" of the original dataset that will be **unit of parallelism**.\n",
    "\n",
    "<br/><center><img src='imgs/lecture1/rdd_partitions.png'/></center><br />\n",
    "\n",
    "\n",
    "In other words if we have two cores in our worker, but the RDD is composed of one partitions, then only one task at the time will be run. On the other hand, if the partitions are four only two of them will be processed in parallel.\n",
    "\n",
    "\n",
    "<br/><center><img src='imgs/lecture1/partitions_processing.png'/></center><br/>"
   ]
  },
  {
   "cell_type": "markdown",
   "metadata": {},
   "source": [
    "To split our data in an arbitrary number of partitions we can use `numSlices`"
   ]
  },
  {
   "cell_type": "code",
   "execution_count": 12,
   "metadata": {},
   "outputs": [
    {
     "data": {
      "text/plain": [
       "8"
      ]
     },
     "execution_count": 12,
     "metadata": {},
     "output_type": "execute_result"
    }
   ],
   "source": [
    "# parallelize using a different number of partitions\n",
    "sc.parallelize(data, numSlices=8).count()"
   ]
  },
  {
   "cell_type": "code",
   "execution_count": 9,
   "metadata": {},
   "outputs": [
    {
     "data": {
      "text/plain": [
       "8"
      ]
     },
     "execution_count": 9,
     "metadata": {},
     "output_type": "execute_result"
    }
   ],
   "source": [
    "sc.parallelize(data, numSlices=8).getNumPartitions()"
   ]
  },
  {
   "cell_type": "code",
   "execution_count": 10,
   "metadata": {
    "scrolled": true
   },
   "outputs": [
    {
     "data": {
      "text/plain": [
       "4"
      ]
     },
     "execution_count": 10,
     "metadata": {},
     "output_type": "execute_result"
    }
   ],
   "source": [
    "# get the number of partitions\n",
    "dist_data.getNumPartitions()"
   ]
  },
  {
   "cell_type": "markdown",
   "metadata": {},
   "source": [
    "It's important to visualize that the RDD resides in the worker nodes.\n",
    "If we print the `dist_data` object we will not see the actual data contained in the RDD, but only that this is a distributed dataset.\n",
    "\n",
    "This is actually very important, as in a distributed system the datasets we are processing are typically much larger than the availble memory of the driver (it's one of the main reasons we use a distributed system in the first place).\n",
    "Returning the content of the whole dataset in a single machine is not a clever idea.\n",
    "\n",
    "However, a distributed dataset can be collected in the driver with `collect()`, i.e. all the workers will send back all the blocks of the RDD. \n",
    "\n",
    "This is generally used to collect the end-results, after a computationally heavy processing is first run on the worker nodes. \n",
    "This function should be used with caution since it fetches the entire RDD to a single machine and can cause the driver to run out of memory. "
   ]
  },
  {
   "cell_type": "code",
   "execution_count": 13,
   "metadata": {},
   "outputs": [
    {
     "data": {
      "text/plain": [
       "[1, 2, 3, 4, 5, 6, 7, 8]"
      ]
     },
     "execution_count": 13,
     "metadata": {},
     "output_type": "execute_result"
    }
   ],
   "source": [
    "# collect the data_rdd\n",
    "dist_data.collect()"
   ]
  },
  {
   "cell_type": "markdown",
   "metadata": {},
   "source": [
    "## Map and Reduce\n",
    "\n",
    "We can now write our first map-reduce application. \n",
    "\n",
    "The method `map(f)` will apply the function `f` to each _element_ of the RDD. "
   ]
  },
  {
   "cell_type": "code",
   "execution_count": 14,
   "metadata": {},
   "outputs": [
    {
     "data": {
      "text/plain": [
       "[2, 3, 4, 5, 6, 7, 8, 9]"
      ]
     },
     "execution_count": 14,
     "metadata": {},
     "output_type": "execute_result"
    }
   ],
   "source": [
    "# increment each number of the array with map\n",
    "# and collect the result\n",
    "dist_data.map( lambda x: x+1 ).collect()"
   ]
  },
  {
   "cell_type": "markdown",
   "metadata": {},
   "source": [
    "Differently from plain Hadoop, in Spark we chain together multiple transformations, without having to strictly follow the Map-then-Reduce pattern.\n",
    "\n",
    "For instance, we can even run an entire chain of map functions one after the other with no reduce function at all."
   ]
  },
  {
   "cell_type": "code",
   "execution_count": 15,
   "metadata": {},
   "outputs": [
    {
     "data": {
      "text/plain": [
       "[1.0, 1.5, 2.0, 2.5, 3.0, 3.5, 4.0, 4.5]"
      ]
     },
     "execution_count": 15,
     "metadata": {},
     "output_type": "execute_result"
    }
   ],
   "source": [
    "# multiple map transformations\n",
    "# plus collect (action)\n",
    "dist_data.map(lambda x:x+1)\\\n",
    "         .map(lambda x:x/2)\\\n",
    "         .collect()"
   ]
  },
  {
   "cell_type": "markdown",
   "metadata": {},
   "source": [
    "`reduce` is an action that aggregates all the elements of the RDD using some function and returns the result to the driver. \n",
    "\n",
    "We will see later on a version of reduce, `reduceByKey`, wich performs the reduction for elements with the same key. "
   ]
  },
  {
   "cell_type": "markdown",
   "metadata": {},
   "source": [
    "Reduce actions can take a function as argument, which will be applied to the elements of the RDD, to perform some kind of aggregation.\n",
    "\n",
    "For example, we can think about summing the elements of a RDD in pairs with `reduce(lambda x, y: x + y)`."
   ]
  },
  {
   "cell_type": "code",
   "execution_count": 16,
   "metadata": {},
   "outputs": [
    {
     "data": {
      "text/plain": [
       "44"
      ]
     },
     "execution_count": 16,
     "metadata": {},
     "output_type": "execute_result"
    }
   ],
   "source": [
    "# increment each number of the dataset (transformation)\n",
    "# and sum all of them in pairs (action)\n",
    "dist_data.map(lambda x:x+1).reduce(lambda x, y: x+y)\n",
    "\n",
    "# reduce is an action"
   ]
  },
  {
   "cell_type": "markdown",
   "metadata": {},
   "source": [
    "A schematic view of this simple map-reduce application can be seen here:\n",
    "\n",
    "<br/><center><img src='imgs/lecture1/map_reduce_increment.png'/></center><br/>"
   ]
  },
  {
   "cell_type": "markdown",
   "metadata": {},
   "source": [
    "Notice that we did it in parallel."
   ]
  },
  {
   "cell_type": "markdown",
   "metadata": {},
   "source": [
    "## Excercise 1\n",
    "\n",
    "Write a simple reduce function to find the minimum of `dist_data`."
   ]
  },
  {
   "cell_type": "code",
   "execution_count": 17,
   "metadata": {},
   "outputs": [
    {
     "data": {
      "text/plain": [
       "1"
      ]
     },
     "execution_count": 17,
     "metadata": {},
     "output_type": "execute_result"
    }
   ],
   "source": [
    "dist_data.reduce(lambda x, y: min(x, y))"
   ]
  },
  {
   "cell_type": "code",
   "execution_count": 18,
   "metadata": {
    "scrolled": true
   },
   "outputs": [
    {
     "data": {
      "text/plain": [
       "1"
      ]
     },
     "execution_count": 18,
     "metadata": {},
     "output_type": "execute_result"
    }
   ],
   "source": [
    "dist_data.min()"
   ]
  },
  {
   "cell_type": "markdown",
   "metadata": {},
   "source": [
    "## Exercise 2 - compute $\\pi$\n",
    "\n",
    "It is possible to estimate $\\pi$ by simulating random points in the unit square (side length of $1$) and counting how many fall in the unit circle. The probability of one point falling inside the circle is \n",
    "\n",
    "$$\n",
    "P = \\frac{\\text{Area circle}}{\\text{Area square}} = \\frac{\\pi}{4}\n",
    "$$\n",
    "\n",
    "We can estimate this probabiliy by counting the number of simulated points inside the circle\n",
    "\n",
    "$$\n",
    "P = \\frac{\\text{\\# Points in circle}}{\\text{\\# Points}} \n",
    "$$\n",
    "\n",
    "Thus obtaining \n",
    "\n",
    "$$\n",
    "\\pi \\approx 4 \\cdot \\frac{\\text{\\# Points in circle}}{\\text{\\# Points}}\n",
    "$$\n",
    "\n",
    "<br/><center><img src='imgs/lecture1/pi_estimation.png'/></center><br/>\n",
    "\n",
    "This can be done in Spark running the computation in parallel with the following steps:\n",
    "1. Create the \"dummy RDD\" containing placeholders for the points (e.g. use the value 0 as placeholder for each data point)\n",
    "2. Generate the points as random (x,y) pairs and check if each of them falls inside/outside the circle\n",
    "3. Count the points inside the circle\n",
    "\n",
    "Think about which transformations are needed to generate the points and to check if they fall inside the circle.\n",
    "Combine all the transformations and the action in a single pipeline."
   ]
  },
  {
   "cell_type": "code",
   "execution_count": 21,
   "metadata": {},
   "outputs": [
    {
     "name": "stdout",
     "output_type": "stream",
     "text": [
      "pi =  3.1356\n"
     ]
    }
   ],
   "source": [
    "import random\n",
    "\n",
    "num_points = 10000\n",
    "\n",
    "## instantiate \"placeholder RDD\"\n",
    "points_rdd = sc.parallelize([0]*num_points)\n",
    "\n",
    "def in_circle(dummy):\n",
    "    ## simulate the point and check if\n",
    "    ## it is inside the circle \n",
    "    ## return 0 or 1\n",
    "    x = random.random()\n",
    "    y = random.random()\n",
    "    return 1 if (x**2+y**2<1) else 0\n",
    "\n",
    "# count points inside the circle\n",
    "points_in_circle = points_rdd.map(lambda x: in_circle(x)).reduce(lambda x, y: x+y)\n",
    "\n",
    "# print result\n",
    "print('pi = ', 4*points_in_circle/num_points)\n"
   ]
  },
  {
   "cell_type": "markdown",
   "metadata": {},
   "source": [
    "The same result can be achieved using the `filter` transformation. \n",
    "\n",
    "`filter(f)` returns a new RDD containing only the element of source RDD on which `f` is `true`."
   ]
  },
  {
   "cell_type": "code",
   "execution_count": 24,
   "metadata": {},
   "outputs": [
    {
     "name": "stdout",
     "output_type": "stream",
     "text": [
      "pi =  3.1028\n"
     ]
    }
   ],
   "source": [
    "# perform the same exercise using filter\n",
    "count_circle = points_rdd \\\n",
    "    .map(lambda x: random.random()**2+random.random()**2) \\\n",
    "    .filter(lambda x: x<1) \\\n",
    "    .count()\n",
    "\n",
    "# print result\n",
    "print('pi = ', 4*count_circle/num_points)"
   ]
  },
  {
   "cell_type": "markdown",
   "metadata": {},
   "source": [
    "## Reduce by key and flat map\n",
    "\n",
    "Consider the following dataset where each element consists of a tuple `(group, value)` (a **key-value pair**). \n",
    "\n",
    "This can be for example:\n",
    "- `group` = product class, and \n",
    "- `value` = revenue"
   ]
  },
  {
   "cell_type": "code",
   "execution_count": 25,
   "metadata": {},
   "outputs": [],
   "source": [
    "class_list = [('group1', 10), ('group2', 4), ('group3', 1), ('group2', 7), ('group1', 8)]\n",
    "class_rdd = sc.parallelize(class_list)"
   ]
  },
  {
   "cell_type": "markdown",
   "metadata": {},
   "source": [
    "We could be interested in operating only on the values of the dataset, discarding the keys."
   ]
  },
  {
   "cell_type": "code",
   "execution_count": 27,
   "metadata": {},
   "outputs": [
    {
     "data": {
      "text/plain": [
       "[('group1', 11), ('group2', 5), ('group3', 2), ('group2', 8), ('group1', 9)]"
      ]
     },
     "execution_count": 27,
     "metadata": {},
     "output_type": "execute_result"
    }
   ],
   "source": [
    "# operate only on the values\n",
    "class_rdd.map(lambda el: (el[0], el[1]+1)).collect()"
   ]
  },
  {
   "cell_type": "markdown",
   "metadata": {},
   "source": [
    "The same result can be achieved using `mapValues`"
   ]
  },
  {
   "cell_type": "code",
   "execution_count": 26,
   "metadata": {},
   "outputs": [
    {
     "data": {
      "text/plain": [
       "[('group1', 11), ('group2', 5), ('group3', 2), ('group2', 8), ('group1', 9)]"
      ]
     },
     "execution_count": 26,
     "metadata": {},
     "output_type": "execute_result"
    }
   ],
   "source": [
    "# do the same using map values\n",
    "class_rdd.mapValues(lambda x: x+1).collect()"
   ]
  },
  {
   "cell_type": "markdown",
   "metadata": {},
   "source": [
    "We can perform a reduce function for each class using `reduceByKey`: in this way we are applying the reduce function only to the elements of the same class.\n",
    "\n",
    "Despite its name, `reduceByKey` is not an action, but a transformation, since it returns a distributed dataset (the result of an aggregation by key could still be very large if the number of keys is large).  "
   ]
  },
  {
   "cell_type": "code",
   "execution_count": 28,
   "metadata": {},
   "outputs": [
    {
     "name": "stderr",
     "output_type": "stream",
     "text": [
      "                                                                                \r"
     ]
    },
    {
     "data": {
      "text/plain": [
       "[('group1', 8), ('group3', 1), ('group2', 4)]"
      ]
     },
     "execution_count": 28,
     "metadata": {},
     "output_type": "execute_result"
    }
   ],
   "source": [
    "# compute the minimum using reduce by key\n",
    "class_rdd.reduceByKey(lambda x, y: min(x, y)).collect()"
   ]
  },
  {
   "cell_type": "markdown",
   "metadata": {},
   "source": [
    "Notice that reduceByKey is a group_by like operation, so a wide transformation. Looking at the stages, you will find 2 stages, as data must be exchanged across the partitions. "
   ]
  },
  {
   "cell_type": "markdown",
   "metadata": {},
   "source": [
    "We can further filter our results by using `takeOrdered` to get the first 2 results ordered by key."
   ]
  },
  {
   "cell_type": "code",
   "execution_count": 29,
   "metadata": {},
   "outputs": [
    {
     "name": "stderr",
     "output_type": "stream",
     "text": [
      "                                                                                \r"
     ]
    },
    {
     "data": {
      "text/plain": [
       "[('group1', 8), ('group2', 4)]"
      ]
     },
     "execution_count": 29,
     "metadata": {},
     "output_type": "execute_result"
    }
   ],
   "source": [
    "class_rdd.reduceByKey(lambda x, y: min(x, y)) \\\n",
    "    .takeOrdered(2, key=lambda x: -x[-1])  # sort by the value in descending order"
   ]
  },
  {
   "cell_type": "markdown",
   "metadata": {},
   "source": [
    "If we are not interested in treating the dataset as key-value pairs, or in general we have a non-flat dataset (e.g. each element of the RDD is a list, or another object), we can use `flatMap` to \"explode\" each element returning a plain sequence of elements."
   ]
  },
  {
   "cell_type": "code",
   "execution_count": 32,
   "metadata": {},
   "outputs": [
    {
     "data": {
      "text/plain": [
       "['group1', 10, 'group2', 4, 'group3', 1, 'group2', 7, 'group1', 8]"
      ]
     },
     "execution_count": 32,
     "metadata": {},
     "output_type": "execute_result"
    }
   ],
   "source": [
    "# flatten the rdd\n",
    "class_rdd.flatMap(lambda el: el).collect()"
   ]
  },
  {
   "cell_type": "code",
   "execution_count": 33,
   "metadata": {},
   "outputs": [
    {
     "data": {
      "text/plain": [
       "[1, 2, 3, 2, 3, 4]"
      ]
     },
     "execution_count": 33,
     "metadata": {},
     "output_type": "execute_result"
    }
   ],
   "source": [
    "sc.parallelize([[1,2,3], [2,3,4]]) \\\n",
    "    .flatMap(lambda x: x) \\\n",
    "    .collect()"
   ]
  },
  {
   "cell_type": "markdown",
   "metadata": {},
   "source": [
    "## Exercise 3: word count\n",
    "\n",
    "You have received the following message from one of your friend: "
   ]
  },
  {
   "cell_type": "code",
   "execution_count": 34,
   "metadata": {},
   "outputs": [
    {
     "name": "stdout",
     "output_type": "stream",
     "text": [
      "One ring to rule them all, ? one ring to find them,\n",
      "One ring $ to bring them all, and in the % darkness bind them;\n",
      "In the Land of Mordor @ where the shadows lie.\n"
     ]
    }
   ],
   "source": [
    "message = [\n",
    "    'One ring to rule them all, ? one ring to find them,\\n',\n",
    "    'One ring $ to bring them all, and in the % darkness bind them;\\n',\n",
    "    'In the Land of Mordor @ where the shadows lie.'\n",
    "]\n",
    "\n",
    "print(''.join(message))"
   ]
  },
  {
   "cell_type": "markdown",
   "metadata": {},
   "source": [
    "You are interested in counting the occurence of each word.\n",
    "\n",
    "First, you may want to need to clean-up the message (e.g remove symbols such as `@` and `$`).\n",
    "\n",
    "You also want to change all the words to lower case, to avoid counting the same word twice."
   ]
  },
  {
   "cell_type": "code",
   "execution_count": 44,
   "metadata": {},
   "outputs": [
    {
     "data": {
      "text/plain": [
       "['One ring to rule them all, ? one ring to find them,\\n',\n",
       " 'One ring $ to bring them all, and in the % darkness bind them;\\n',\n",
       " 'In the Land of Mordor @ where the shadows lie.']"
      ]
     },
     "execution_count": 44,
     "metadata": {},
     "output_type": "execute_result"
    }
   ],
   "source": [
    "# parallelize the message\n",
    "message_rdd = sc.parallelize(message)\n",
    "message_rdd.collect()"
   ]
  },
  {
   "cell_type": "markdown",
   "metadata": {},
   "source": [
    "Hint: use `string.punctuation` or a regular expression to remove the unwanted character"
   ]
  },
  {
   "cell_type": "code",
   "execution_count": 45,
   "metadata": {},
   "outputs": [
    {
     "data": {
      "text/plain": [
       "'!\"#$%&\\'()*+,-./:;<=>?@[\\\\]^_`{|}~'"
      ]
     },
     "execution_count": 45,
     "metadata": {},
     "output_type": "execute_result"
    }
   ],
   "source": [
    "import string\n",
    "string.punctuation"
   ]
  },
  {
   "cell_type": "code",
   "execution_count": 48,
   "metadata": {},
   "outputs": [
    {
     "data": {
      "text/plain": [
       "[['one',\n",
       "  'ring',\n",
       "  'to',\n",
       "  'rule',\n",
       "  'them',\n",
       "  'all,',\n",
       "  'one',\n",
       "  'ring',\n",
       "  'to',\n",
       "  'find',\n",
       "  'them,'],\n",
       " ['one',\n",
       "  'ring',\n",
       "  'to',\n",
       "  'bring',\n",
       "  'them',\n",
       "  'all,',\n",
       "  'and',\n",
       "  'in',\n",
       "  'the',\n",
       "  'darkness',\n",
       "  'bind',\n",
       "  'them;'],\n",
       " ['in', 'the', 'land', 'of', 'mordor', 'where', 'the', 'shadows', 'lie.']]"
      ]
     },
     "execution_count": 48,
     "metadata": {},
     "output_type": "execute_result"
    }
   ],
   "source": [
    "# step 1: create the words_rdd where each element is a word\n",
    "# eg: ['one', 'ring', 'to', 'rule', 'them']\n",
    "\n",
    "def clean_row(row):\n",
    "    # clean the row and return the list of words\n",
    "    word_list = []\n",
    "    \n",
    "    ## Code\n",
    "    for word in row.split():\n",
    "        if word not in list(string.punctuation):\n",
    "            word_list.append(word.lower())\n",
    "    \n",
    "    return word_list\n",
    "\n",
    "# apply transformation\n",
    "words_rdd = message_rdd.map(clean_row)\n",
    "words_rdd.collect()[:10]"
   ]
  },
  {
   "cell_type": "code",
   "execution_count": 51,
   "metadata": {},
   "outputs": [
    {
     "name": "stderr",
     "output_type": "stream",
     "text": [
      "                                                                                \r"
     ]
    },
    {
     "data": {
      "text/plain": [
       "[('them', 2),\n",
       " ('in', 2),\n",
       " ('bind', 1),\n",
       " ('of', 1),\n",
       " ('where', 1),\n",
       " ('shadows', 1),\n",
       " ('the', 3),\n",
       " ('to', 3),\n",
       " ('and', 1),\n",
       " ('rule', 1),\n",
       " ('them,', 1),\n",
       " ('bring', 1),\n",
       " ('mordor', 1),\n",
       " ('lie.', 1),\n",
       " ('one', 3),\n",
       " ('ring', 3),\n",
       " ('all,', 2),\n",
       " ('darkness', 1),\n",
       " ('them;', 1),\n",
       " ('find', 1),\n",
       " ('land', 1)]"
      ]
     },
     "execution_count": 51,
     "metadata": {},
     "output_type": "execute_result"
    }
   ],
   "source": [
    "# step 2: perform word count!\n",
    "# -> crate pairs (word, 1)\n",
    "# -> reduce and count\n",
    "\n",
    "word_count_rdd = words_rdd.flatMap(lambda x: x).map(lambda word: (word, 1)).reduceByKey(lambda c1, c2: c1+c2)\n",
    "word_count_rdd.collect()"
   ]
  },
  {
   "cell_type": "markdown",
   "metadata": {},
   "source": [
    "The method `takeOrdered(n, key)` allows to collect only the first $n$ elements based on the ordering provided by key. Ordering is by default ascending."
   ]
  },
  {
   "cell_type": "code",
   "execution_count": 52,
   "metadata": {},
   "outputs": [
    {
     "data": {
      "text/plain": [
       "[('to', 3), ('the', 3), ('one', 3)]"
      ]
     },
     "execution_count": 52,
     "metadata": {},
     "output_type": "execute_result"
    }
   ],
   "source": [
    "# collect the 3 most occurent words\n",
    "word_count_rdd.takeOrdered(3, key=lambda x: -x[-1])"
   ]
  },
  {
   "cell_type": "markdown",
   "metadata": {},
   "source": [
    "## Exercise 4 - Linear regression\n",
    "\n",
    "The files in `../datasets/lecture1/` contain the measure of a sensor. Each measure is in the form \n",
    "\n",
    "```\n",
    "Measure  N: (t,val)\n",
    "```\n",
    "\n",
    "There could be pairs such as `(t, None)`, corresponting to missing values. This measure should be removed. \n",
    "\n",
    "We are interested in knowing if there is any sort of relation between `t` and `val`.\n",
    "\n",
    "The first task consits in reading each file and creating an RDD containing as element the pairs `(t,val)`.\n",
    "\n",
    "We can first inspect the first lines of a file to get a sense of the data: "
   ]
  },
  {
   "cell_type": "code",
   "execution_count": 4,
   "metadata": {},
   "outputs": [
    {
     "name": "stdout",
     "output_type": "stream",
     "text": [
      "Measure  0: (-10.00,0.70)\n",
      "Measure  1: (-9.95,0.61)\n",
      "Measure  2: (-9.90,0.47)\n",
      "Measure  3: (-9.85,None)\n",
      "Measure  4: (-9.80,0.58)\n",
      "Measure  5: (-9.75,0.29)\n",
      "Measure  6: (-9.70,0.35)\n",
      "Measure  7: (-9.65,0.25)\n",
      "Measure  8: (-9.60,0.39)\n",
      "Measure  9: (-9.55,0.52)\n"
     ]
    }
   ],
   "source": [
    "!head ../datasets/lecture1/file_1.txt"
   ]
  },
  {
   "cell_type": "markdown",
   "metadata": {},
   "source": [
    "Imagine that each file contain millions of measure and there may be hundreds of files. Moreover, data can be already saved in files in multiple nodes. \n",
    "\n",
    "For the purpose of this exercise, we will assume that the data is already distributed in the cluster.\n",
    "\n",
    "For this reasons reading all the files with python, and then using `parallelize` should be avoided at all costs.\n",
    "This would be a very inefficient way to read the data, as we would have to read all the files in the driver (possibly getting out of memory), then splitting the data in the workers. \n",
    "\n",
    "Instead, we can parallelize the _list of files_ and then read them in parallel with Spark. We have not parallelized the content of the files, but only the list! The execure will take care of opening up the files, read, ..."
   ]
  },
  {
   "cell_type": "code",
   "execution_count": 5,
   "metadata": {},
   "outputs": [
    {
     "name": "stderr",
     "output_type": "stream",
     "text": [
      "                                                                                \r"
     ]
    },
    {
     "data": {
      "text/plain": [
       "['/opt/workspace/datasets/lecture1/file_1.txt',\n",
       " '/opt/workspace/datasets/lecture1/file_2.txt',\n",
       " '/opt/workspace/datasets/lecture1/file_3.txt',\n",
       " '/opt/workspace/datasets/lecture1/file_4.txt']"
      ]
     },
     "execution_count": 5,
     "metadata": {},
     "output_type": "execute_result"
    }
   ],
   "source": [
    "if CLUSTER_TYPE=='local':\n",
    "    base_path = '/home/pazzini/work/courses/MAPD_B/MAPD-B/spark/datasets/lecture1/file_{}.txt'\n",
    "else:\n",
    "    base_path = '/opt/workspace/datasets/lecture1/file_{}.txt'\n",
    "file_list = [base_path.format(i) for i in range(1,5)]\n",
    "\n",
    "files_rdd = sc.parallelize(file_list)\n",
    "files_rdd.collect()"
   ]
  },
  {
   "cell_type": "markdown",
   "metadata": {},
   "source": [
    "#### Note\n",
    "In this case we could have used the function `textFile`, which takes as input the path to the files and read them into an RDD. \n",
    "\n",
    "To access a file in with this function we need to prepend `file://` if the file is in the local file system. If the file is in hadoop the path will be similar to `hdfs://namenode.com:8020/path_to_the_file`. In the same way, if the file is stored in `s3` the path will be `s3://`.\n",
    "\n",
    "The function `textFile` can be used in this case only because files are stored in `.txt` files.\n",
    "In many cases, however, a custom data loader is required instead.\n",
    "On the other hand, we should try to use this function as much as possible since they are much more performant than standard python code.  \n",
    "\n",
    "```python\n",
    "text_rdd = sc.textFile(\"file://\"+base_path.format('*'))\n",
    "text_rdd.collect()[:4]\n",
    "```\n",
    "\n",
    "However, in this example we will wire a custom data loader. "
   ]
  },
  {
   "cell_type": "markdown",
   "metadata": {},
   "source": [
    "Starting from the RDD files, write a map that convert it into an RDD, `data_rdd`, where each element is a tuple `(t, val)`. \n",
    "\n",
    "Remember to remove points with `None` as measure. \n",
    "\n",
    "The elements of `data_rdd` should finally be something like:\n",
    "\n",
    "```\n",
    "[(0.0,9.93), (-1.0,9.02), ...]\n",
    "```"
   ]
  },
  {
   "cell_type": "markdown",
   "metadata": {},
   "source": [
    "In order to do this, we can use _regular expressions (or regex)_.\n",
    "\n",
    "A regular expression is a sequence of characters that allows to identify and select a **pattern** in a string, instead of a specific substring.\n",
    "Most editors (including Jupyter) allow to use regex to find and replace text based on patterns, and several interesing sites offer a simple interface to learn and experiment with regexp, e.g. https://regex101.com/\n",
    "\n",
    "All following charachters are considered \"meta-characters\" in regex\n",
    "\n",
    "`. ^ $ * + ? { } [ ] \\ | ( )`\n",
    "\n",
    "In a regular expression, all these symbols will be **not** interpreted as their characters, but are used to build up the patterns and search for matches in the text.\n",
    "\n",
    "The main notable examples are:\n",
    "\n",
    "`[ ]` square brakets meaning exactly 1 character\n",
    "\n",
    "| regexp | interpretation |\n",
    "| --- | --- |\n",
    "| \\[a\\] | the letter `a` |\n",
    "| \\[ax\\] | the letter `a` or `x` |\n",
    "| \\[a-x\\] | any letter from `a` to `x` |\n",
    "| \\[a-zA-F\\] | any letter from `a` to `z` and from `A` to `F` |\n",
    "| \\[0-9\\] | any number from 0 to 9 |\n",
    "\n",
    "`^` represents a `not`\n",
    "\n",
    "| regexp | interpretation |\n",
    "| --- | --- |\n",
    "| \\[^b02\\] | all charachters but `b`,`0`and `2` |\n",
    "\n",
    "`.` represents any character at all\n",
    "\n",
    "| regexp | interpretation |\n",
    "| --- | --- |\n",
    "| . | all charachters |\n",
    "\n",
    "`?` makes the preceding character in the regular expression optional\n",
    "\n",
    "| regexp | interpretation |\n",
    "| --- | --- |\n",
    "| colou?r | `color` or `colour` |\n",
    "\n",
    "`*` match the preceding character (or combination) zero or more times\n",
    "\n",
    "| regexp | interpretation |\n",
    "| --- | --- |\n",
    "| go*gle | `ggle`,`gogle`,`google`,`gooogle`,... |\n",
    "\n",
    "`\\t` matches a tab\n",
    "\n",
    "`\\n` matches a new-line\n",
    "\n",
    "`^` (outside of `[]`) matches the start of a line\n",
    "\n",
    "`$` matches the end of a line\n",
    "\n",
    "Regex can be used in plain Python with the `re` module."
   ]
  },
  {
   "cell_type": "markdown",
   "metadata": {},
   "source": [
    "Let's use the `re` module to implement the appropriate regular expression to clean up our data.\n",
    "\n",
    "We should find all float values possibly starting with a +/- sign and collecting them in pairs."
   ]
  },
  {
   "cell_type": "code",
   "execution_count": 6,
   "metadata": {},
   "outputs": [
    {
     "data": {
      "text/plain": [
       "['.05,0.70']"
      ]
     },
     "execution_count": 6,
     "metadata": {},
     "output_type": "execute_result"
    }
   ],
   "source": [
    "import re\n",
    "\n",
    "line_ = 'Measure  0: (.05,0.70)'\n",
    "float_pattern = '-?[0-9]*\\.[0-9]*'\n",
    "coordinates = re.findall(f'{float_pattern},{float_pattern}', line_)\n",
    "coordinates   "
   ]
  },
  {
   "cell_type": "code",
   "execution_count": 7,
   "metadata": {},
   "outputs": [
    {
     "name": "stderr",
     "output_type": "stream",
     "text": [
      "                                                                                \r"
     ]
    },
    {
     "data": {
      "text/plain": [
       "[(-10.0, 0.7),\n",
       " (-9.95, 0.61),\n",
       " (-9.9, 0.47),\n",
       " (-9.8, 0.58),\n",
       " (-9.75, 0.29),\n",
       " (-9.7, 0.35),\n",
       " (-9.65, 0.25),\n",
       " (-9.6, 0.39),\n",
       " (-9.55, 0.52),\n",
       " (-9.5, 0.68)]"
      ]
     },
     "execution_count": 7,
     "metadata": {},
     "output_type": "execute_result"
    }
   ],
   "source": [
    "import re\n",
    "\n",
    "def parse_file(file):\n",
    "    \n",
    "    ## load lines \n",
    "    with open(file, 'r') as f:\n",
    "        lines = f.readlines()\n",
    "\n",
    "    points = []\n",
    "    ## extract points\n",
    "    for line in lines:\n",
    "        float_pattern = '-?[0-9]*\\.[0-9]*'\n",
    "        coordinates = re.findall(f'{float_pattern},{float_pattern}', line)\n",
    "        \n",
    "        if len(coordinates)!=0:\n",
    "            coordinates = coordinates[0].split(',')\n",
    "            points.append(\n",
    "                (float(coordinates[0]), float(coordinates[1]))\n",
    "            )\n",
    "    \n",
    "    ## \n",
    "    return points\n",
    "\n",
    "data_rdd = files_rdd.flatMap(lambda file: parse_file(file))\n",
    "data_rdd.collect()[:10]"
   ]
  },
  {
   "cell_type": "markdown",
   "metadata": {},
   "source": [
    "With `sample(with_replacement, fraction)` we can sample some points from the original RDD. \n",
    "\n",
    "This is useful if we want to collect only a fraction of our data."
   ]
  },
  {
   "cell_type": "code",
   "execution_count": 8,
   "metadata": {},
   "outputs": [
    {
     "data": {
      "image/png": "[encoded data removed]",
      "text/plain": [
       "<Figure size 432x288 with 1 Axes>"
      ]
     },
     "metadata": {
      "needs_background": "light"
     },
     "output_type": "display_data"
    }
   ],
   "source": [
    "import matplotlib.pyplot as plt \n",
    "import numpy as np\n",
    "\n",
    "# collect a sample\n",
    "data = np.array(data_rdd.sample(False,0.2).collect())\n",
    "\n",
    "plt.scatter(data[:,0], data[:,1])\n",
    "\n",
    "plt.xlabel(r'$p_x$')\n",
    "plt.ylabel(r'$p_y$')\n",
    "plt.show()"
   ]
  },
  {
   "cell_type": "markdown",
   "metadata": {},
   "source": [
    "We will now implement a distributed gradient descent and use it to find the best parameters for a linear model. \n",
    "\n",
    "Given an input $X$ the ouput of the model is \n",
    "\n",
    "$$\n",
    "Y = W X = w_{0} + w_1 x_1 + \\dots + w_p x_p\n",
    "$$\n",
    "\n",
    "In our case, we have $Y=y(w,x)$, $W = [w_0, w_1]$ and $X=[1, x]^T$, in other words\n",
    "\n",
    "$$\n",
    "y(w,x) = w_0 + w_1 x\n",
    "$$\n",
    "\n",
    "We are interested in estimating the optimal parameters $w^\\star$ of the line fitting our data. \n",
    "\n",
    "To do this we will use **gradient descent**, an iterative procedure that allows us to find a local minumum of a differentiable function.\n",
    "\n",
    "In our case, we would like to minimize the square residuals, i.e.\n",
    "\n",
    "$$\n",
    "J(W,X) = \\frac{1}{2n} \\sum_{i=1}^{n} [Y(W, X)- y_i]^2 = \\frac{1}{2n} \\sum_{i=1}^{n} [ (w_0 +w_1x) - y_i]^2\n",
    "$$\n",
    "\n",
    "where $y_i$ is the true value. \n",
    "\n",
    "In each step of the gradient descent we use the following update rule\n",
    "\n",
    "$$\n",
    "W_{i+1} = W_i - \\gamma \\nabla J_W(W_i, X)\n",
    "$$\n",
    "\n",
    "where $\\gamma$ is the learning rate, a variable used to reduce the size of each step.\n",
    "\n",
    "\n",
    "In other word we are moving in the opposite direction of the gradient, i.e. towards the minimum of the function. \n",
    "\n",
    "Recalling that $W=[w_0, w_1]$ and $X=[1,x]$ we have that each component of the gradient, i.e. $\\frac{\\partial}{\\partial w_p} J(W,X) $\n",
    "\n",
    "$$\n",
    "\\nabla J(W, X) = \\left[\\frac{1}{n} \\sum_{i=1}^{n} [Y(W,X)- y_i]\\cdot1, \\frac{1}{n} \\sum_{i=1}^{n} [Y(W,X)- y_i]\\cdot x_i \\right]\n",
    "$$\n",
    "\n",
    "We can now write a map-reduce job used to estimate the parameters using gradient descent on the full dataset.\n",
    "\n",
    "We start by defining the weights vector and initializing it to some values, e.g. $(10, 0.5)$ is a good guess :)"
   ]
  },
  {
   "cell_type": "code",
   "execution_count": null,
   "metadata": {},
   "outputs": [],
   "source": [
    "# use numpy to create the W weight array\n",
    "W = np.array([10, 0.5])"
   ]
  },
  {
   "cell_type": "markdown",
   "metadata": {},
   "source": [
    "Implement then the functions computing the prediction given as input $x$ and the current weights W"
   ]
  },
  {
   "cell_type": "code",
   "execution_count": 9,
   "metadata": {},
   "outputs": [],
   "source": [
    "# predict y for any given x and weights W\n",
    "def predict(x, W):\n",
    "    return W[0]+W[1]*x\n",
    "\n",
    "# test the function in local \n",
    "assert predict(1, [10,1]) == 11\n"
   ]
  },
  {
   "cell_type": "markdown",
   "metadata": {},
   "source": [
    "Implement the function computing the gradient for one example, given as inputs:\n",
    "1. the point $P=(x,y)$, and \n",
    "2. the current set of weights $W$. \n",
    "\n",
    "Remember that the gradient has two components, one per parameter. \n",
    "\n",
    "Furthermore, the normalization $\\frac{1}{n}$ can be ommited since we can apply it afterwards, having summed the gradients of all examples."
   ]
  },
  {
   "cell_type": "code",
   "execution_count": 10,
   "metadata": {},
   "outputs": [],
   "source": [
    "# compute the gradient \n",
    "def gradient(P, W):\n",
    "    # return the prediction given the x value of P and the weights W\n",
    "    pred = predict(P[0], W)\n",
    "    \n",
    "    # compute gradient\n",
    "    gradient = np.dot(pred-P[1], [1,P[0]])\n",
    "    return gradient\n",
    "\n",
    "# test the function in local\n",
    "assert not (gradient((1,11), [10,1])).all() \n"
   ]
  },
  {
   "cell_type": "markdown",
   "metadata": {},
   "source": [
    "We are now ready to implement the gradient descent and find the optimal line parameters. \n",
    "\n",
    "**Hint**: compute the gradient for each point in parallel, and them sum all of them. Finally, use this sum to update the weights vector. "
   ]
  },
  {
   "cell_type": "code",
   "execution_count": 11,
   "metadata": {},
   "outputs": [
    {
     "name": "stderr",
     "output_type": "stream",
     "text": [
      "                                                                                \r"
     ]
    },
    {
     "name": "stdout",
     "output_type": "stream",
     "text": [
      "Final parameters: x0=10.03, x1=1.00\n"
     ]
    }
   ],
   "source": [
    "# count points based on the partitioned data\n",
    "num_points = data_rdd.count()\n",
    "\n",
    "# re-declare the weight vector here: \n",
    "#   this is useful if the cell is run multiple times\n",
    "W = np.array([10,0.5])\n",
    "\n",
    "# define the learning rate\n",
    "lr = 0.01\n",
    "\n",
    "# define the number of iterations\n",
    "num_it = 20\n",
    "\n",
    "for i in range(num_it):\n",
    "    # run the gradient descent in parallel and then sum the gradients \n",
    "    grad = data_rdd.map(lambda P: gradient(P,W)).reduce(lambda g1,g2: g1+g2)\n",
    "    # update the weights according to the learning rate and the gradient\n",
    "    W = W - (lr/num_points)*grad\n",
    "    \n",
    "print(\"Final parameters: x0={:.2f}, x1={:.2f}\".format(W[0], W[1]))"
   ]
  },
  {
   "cell_type": "markdown",
   "metadata": {},
   "source": [
    "Check out the results by plotting the data points and the resulting best fit line."
   ]
  },
  {
   "cell_type": "code",
   "execution_count": 12,
   "metadata": {},
   "outputs": [
    {
     "data": {
      "image/png": "[encoded data removed]",
      "text/plain": [
       "<Figure size 432x288 with 1 Axes>"
      ]
     },
     "metadata": {
      "needs_background": "light"
     },
     "output_type": "display_data"
    }
   ],
   "source": [
    "import matplotlib.pyplot as plt\n",
    "\n",
    "data = np.array(data_rdd.collect())\n",
    "\n",
    "plt.scatter(data[:,0], data[:,1])\n",
    "\n",
    "x = np.arange(-10,11)\n",
    "y = W[0] + W[1]*x\n",
    "\n",
    "plt.plot(x, y, color='red', lw=2)\n",
    "\n",
    "plt.xlabel(r'$x_{0}$')\n",
    "plt.ylabel(r'$x_{1}$')\n",
    "\n",
    "plt.show()"
   ]
  },
  {
   "cell_type": "markdown",
   "metadata": {},
   "source": [
    "## Caching\n",
    "\n",
    "From the WebUI we can see that in each iteration Spark is computing every operation from the very beginning, i.e. **the parallelization of the text files!**. \n",
    "This is not really necessary, as this first operation will not need to be re-executed every step.\n",
    "\n",
    "With `persist()` we can tell spark to cache the intermediate results, e.g. after the function parsing the files, into the executors' memory. \n",
    "\n",
    "In this way the same dataset will be loaded in the next iterations much faster, at the cost of having the dataset stored in memory. \n",
    "\n",
    "**Note:** to be precise, there could be different levels of [persistence](https://spark.apache.org/docs/latest/rdd-programming-guide.html#rdd-persistence) of data into the executors' memory.\n",
    "\n",
    "The RDD can be \"unpersisted\" with `unpersist()`, freeing up memory when needed.\n",
    "\n",
    "Performe the gradient descent iterations again by caching `data_rdd` ad look at the WebUI."
   ]
  },
  {
   "cell_type": "code",
   "execution_count": null,
   "metadata": {
    "scrolled": true
   },
   "outputs": [],
   "source": [
    "# persist the original RDD\n",
    "data_rdd = data_rdd.persist()\n",
    "\n",
    "# --- same code as previously ---\n",
    "\n",
    "\n",
    "\n",
    "print(\"Final parameters: x0={:.2f}, x1={:.2f}\".format(W[0], W[1]))"
   ]
  },
  {
   "cell_type": "code",
   "execution_count": null,
   "metadata": {},
   "outputs": [],
   "source": [
    "# free up the memory\n",
    "data_rdd = data_rdd.unpersist()"
   ]
  },
  {
   "cell_type": "markdown",
   "metadata": {},
   "source": [
    "## Residuals\n",
    "\n",
    "Compute the residuals using Spark, and plot it in a histogram. \n",
    "\n",
    "The residual of the point $(x_i, y_i)$ with respect to the model $y(x)$ is simply defined as\n",
    "\n",
    "$$\n",
    "R_i = y(x_i) - y_i\n",
    "$$"
   ]
  },
  {
   "cell_type": "code",
   "execution_count": null,
   "metadata": {},
   "outputs": [],
   "source": [
    "residuals_rdd = "
   ]
  },
  {
   "cell_type": "code",
   "execution_count": null,
   "metadata": {},
   "outputs": [],
   "source": [
    "plt.hist(residuals_rdd.collect(), bins=25)\n",
    "plt.xlabel(\"residuals\")\n",
    "plt.ylabel(\"counts\")\n",
    "plt.show()"
   ]
  },
  {
   "cell_type": "markdown",
   "metadata": {},
   "source": [
    "# Stop worker and master"
   ]
  },
  {
   "cell_type": "code",
   "execution_count": null,
   "metadata": {},
   "outputs": [],
   "source": [
    "# stop the running Spark context\n",
    "sc.stop()"
   ]
  },
  {
   "cell_type": "code",
   "execution_count": null,
   "metadata": {},
   "outputs": [],
   "source": [
    "# stop the running Spark session\n",
    "spark.stop()"
   ]
  },
  {
   "cell_type": "markdown",
   "metadata": {},
   "source": [
    "### Stop Spark services - Local cluster\n",
    "\n",
    "To stop the Spark execution in the master and worker nodes, issue the following bash commands"
   ]
  },
  {
   "cell_type": "code",
   "execution_count": null,
   "metadata": {},
   "outputs": [],
   "source": [
    "!$SPARK_HOME/sbin/stop-worker.sh"
   ]
  },
  {
   "cell_type": "code",
   "execution_count": null,
   "metadata": {},
   "outputs": [],
   "source": [
    "!$SPARK_HOME/sbin/stop-master.sh"
   ]
  },
  {
   "cell_type": "markdown",
   "metadata": {},
   "source": [
    "### Stop Spark services - Docker container(s)\n",
    "\n",
    "For the single Docker container, it is sufficient to stop and close the running container.\n",
    "\n",
    "For the Docker cluster, use `docker-compose down` to stop and clear all running containers."
   ]
  }
 ],
 "metadata": {
  "interpreter": {
   "hash": "d4d1e4263499bec80672ea0156c357c1ee493ec2b1c70f0acce89fc37c4a6abe"
  },
  "kernelspec": {
   "display_name": "Python 3.9.5 ('base')",
   "language": "python",
   "name": "python3"
  },
  "language_info": {
   "codemirror_mode": {
    "name": "ipython",
    "version": 3
   },
   "file_extension": ".py",
   "mimetype": "text/x-python",
   "name": "python",
   "nbconvert_exporter": "python",
   "pygments_lexer": "ipython3",
   "version": "3.9.5"
  }
 },
 "nbformat": 4,
 "nbformat_minor": 4
}
